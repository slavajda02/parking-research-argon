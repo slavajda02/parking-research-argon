{
 "cells": [
  {
   "cell_type": "code",
   "execution_count": 2,
   "id": "b9c9ebbe",
   "metadata": {},
   "outputs": [
    {
     "ename": "FileNotFoundError",
     "evalue": "[WinError 3] The system cannot find the path specified: 'T10LOT/T10LOT_annotation_classes'",
     "output_type": "error",
     "traceback": [
      "\u001b[1;31m---------------------------------------------------------------------------\u001b[0m",
      "\u001b[1;31mFileNotFoundError\u001b[0m                         Traceback (most recent call last)",
      "Cell \u001b[1;32mIn[2], line 4\u001b[0m\n\u001b[0;32m      1\u001b[0m \u001b[38;5;28;01mfrom\u001b[39;00m \u001b[38;5;21;01mscripts\u001b[39;00m\u001b[38;5;21;01m.\u001b[39;00m\u001b[38;5;21;01mprocess_data\u001b[39;00m \u001b[38;5;28;01mimport\u001b[39;00m \u001b[38;5;241m*\u001b[39m\n\u001b[0;32m      3\u001b[0m dataset \u001b[38;5;241m=\u001b[39m \u001b[38;5;124m\"\u001b[39m\u001b[38;5;124mT10LOT\u001b[39m\u001b[38;5;124m\"\u001b[39m\n\u001b[1;32m----> 4\u001b[0m \u001b[43mimg_annotation_classes\u001b[49m\u001b[43m(\u001b[49m\u001b[43mdataset\u001b[49m\u001b[43m)\u001b[49m\n\u001b[0;32m      5\u001b[0m patch_crop(dataset)\n\u001b[0;32m      6\u001b[0m patch_ilm(dataset)\n",
      "File \u001b[1;32mc:\\Users\\slava\\Documents\\AI\\parking-research-argon\\annotating\\scripts\\process_data.py:34\u001b[0m, in \u001b[0;36mimg_annotation_classes\u001b[1;34m(dataset)\u001b[0m\n\u001b[0;32m     31\u001b[0m full_image_set \u001b[38;5;241m=\u001b[39m \u001b[38;5;28mset\u001b[39m(list_images(os\u001b[38;5;241m.\u001b[39mpath\u001b[38;5;241m.\u001b[39mjoin(main_dir,\u001b[38;5;124m\"\u001b[39m\u001b[38;5;124mimages\u001b[39m\u001b[38;5;124m\"\u001b[39m)))\n\u001b[0;32m     33\u001b[0m annotation_classes \u001b[38;5;241m=\u001b[39m []\n\u001b[1;32m---> 34\u001b[0m \u001b[38;5;28;01mfor\u001b[39;00m annot \u001b[38;5;129;01min\u001b[39;00m \u001b[43mos\u001b[49m\u001b[38;5;241;43m.\u001b[39;49m\u001b[43mlistdir\u001b[49m\u001b[43m(\u001b[49m\u001b[43mannot_classes_dir\u001b[49m\u001b[43m)\u001b[49m:\n\u001b[0;32m     35\u001b[0m     \u001b[38;5;28;01mif\u001b[39;00m os\u001b[38;5;241m.\u001b[39mpath\u001b[38;5;241m.\u001b[39misdir(os\u001b[38;5;241m.\u001b[39mpath\u001b[38;5;241m.\u001b[39mjoin(annot_classes_dir, annot)):\n\u001b[0;32m     36\u001b[0m         annotation_classes\u001b[38;5;241m.\u001b[39mappend(annot)\n",
      "\u001b[1;31mFileNotFoundError\u001b[0m: [WinError 3] The system cannot find the path specified: 'T10LOT/T10LOT_annotation_classes'"
     ]
    }
   ],
   "source": [
    "from scripts.process_data import *\n",
    "\n",
    "dataset = \"T10LOT\"\n",
    "img_annotation_classes(dataset)\n",
    "patch_crop(dataset)\n",
    "patch_ilm(dataset)\n",
    "splitter(dataset)\n",
    "get_dataframe(dataset)"
   ]
  },
  {
   "cell_type": "code",
   "execution_count": 2,
   "id": "1310c163",
   "metadata": {
    "scrolled": false
   },
   "outputs": [
    {
     "data": {
      "application/vnd.jupyter.widget-view+json": {
       "model_id": "6e983e4415b24fef976058cbedc87e12",
       "version_major": 2,
       "version_minor": 0
      },
      "text/plain": [
       "Tab(children=(VBox(children=(Image(value=b'\\xff\\xd8\\xff\\xe0\\x00\\x10JFIF\\x00\\x01\\x01\\x00\\x00\\x01\\x00\\x01\\x00\\x0…"
      ]
     },
     "metadata": {},
     "output_type": "display_data"
    }
   ],
   "source": [
    "from scripts.labeling_widget import pm_widget\n",
    "\n",
    "pm_widget(dataset=\"T10LOT\")"
   ]
  }
 ],
 "metadata": {
  "kernelspec": {
   "display_name": "Python 3 (ipykernel)",
   "language": "python",
   "name": "python3"
  },
  "language_info": {
   "codemirror_mode": {
    "name": "ipython",
    "version": 3
   },
   "file_extension": ".py",
   "mimetype": "text/x-python",
   "name": "python",
   "nbconvert_exporter": "python",
   "pygments_lexer": "ipython3",
   "version": "3.11.7"
  }
 },
 "nbformat": 4,
 "nbformat_minor": 5
}
